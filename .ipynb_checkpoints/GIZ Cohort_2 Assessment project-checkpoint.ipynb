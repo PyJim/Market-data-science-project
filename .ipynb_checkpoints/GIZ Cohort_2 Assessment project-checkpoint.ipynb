{
 "cells": [
  {
   "cell_type": "markdown",
   "metadata": {},
   "source": [
    "# Enter your details in the cells below"
   ]
  },
  {
   "cell_type": "markdown",
   "metadata": {},
   "source": [
    "## JIMMY KODWO ESSEL"
   ]
  },
  {
   "cell_type": "markdown",
   "metadata": {},
   "source": [
    "### ekjimmy@yahoo.com"
   ]
  },
  {
   "cell_type": "markdown",
   "metadata": {},
   "source": [
    "#  Project\n",
    "### Problem Statement\n",
    "\n",
    "Buymore is a fast growing supermarket in Ghana that is taking advantage of the data revolution to make data driven decisions.\n",
    "As their Data Scientist, you are presented with the 2013 daily sales records (Buymore_sales_data.csv) and tasked to help them find answers to the questions below by analysing the given data.\n",
    "\n",
    "1. i. What is the average sales and profit per market? \n",
    "\n",
    "   ii.Plot a stacked bar chart showing the average sales and profit per market.\n",
    "   \n",
    "   iii.Which market brings more sales on the average?\n",
    "\n",
    "\n",
    "2. i. Extract the days(eg:Monday,Tuesday...) and months(eg:January,February...) from the Order Date and add them to the data frame with the name \"Days\" and \"Months\" respectively?\n",
    "\n",
    "   ii.Show the trend of profit from January to December with a line plot.\n",
    "\n",
    "   iii.  Based on the data, which day does the company make high sales on the average?\n",
    "\n",
    "3. i. What is the correlation between sales and profit, what does that mean?\n",
    "\n",
    "   ii. Use a scatter plot to show the relationship between sales and profit.\n",
    "\n",
    "4. i. Plot a grouped bar chart showing the total profit for the different product category(Category) for each market.\n",
    "\n",
    "   ii. From your graph, which product category performs well in each market?\n",
    "\n",
    "#### Notes:\n",
    "* Add titles and labels to your charts.\n",
    "* Use markdowns to write your answers or findings where necessary.\n",
    "* Use comments to exlain you codes where necessary \n",
    "* Remember to import the necessary packages\n",
    "\n",
    "**Thank you**\n",
    "\n",
    "**GOOD LUCK!**\n",
    "\n",
    "\n",
    "\n"
   ]
  },
  {
   "cell_type": "code",
   "execution_count": null,
   "metadata": {},
   "outputs": [],
   "source": []
  },
  {
   "cell_type": "markdown",
   "metadata": {},
   "source": [
    "#### **NB**: To easily load the data, it's advisable you have the data and the notebook file  in the same folder"
   ]
  },
  {
   "cell_type": "code",
   "execution_count": 286,
   "metadata": {},
   "outputs": [],
   "source": [
    "#import your packages here\n",
    "import pandas as pd\n",
    "import matplotlib.pyplot as plt\n",
    "import numpy as np"
   ]
  },
  {
   "cell_type": "code",
   "execution_count": 287,
   "metadata": {},
   "outputs": [
    {
     "data": {
      "text/html": [
       "<div>\n",
       "<style scoped>\n",
       "    .dataframe tbody tr th:only-of-type {\n",
       "        vertical-align: middle;\n",
       "    }\n",
       "\n",
       "    .dataframe tbody tr th {\n",
       "        vertical-align: top;\n",
       "    }\n",
       "\n",
       "    .dataframe thead th {\n",
       "        text-align: right;\n",
       "    }\n",
       "</style>\n",
       "<table border=\"1\" class=\"dataframe\">\n",
       "  <thead>\n",
       "    <tr style=\"text-align: right;\">\n",
       "      <th></th>\n",
       "      <th>Order Date</th>\n",
       "      <th>Order ID</th>\n",
       "      <th>Market</th>\n",
       "      <th>Category</th>\n",
       "      <th>Sales</th>\n",
       "      <th>Quantity</th>\n",
       "      <th>Profit</th>\n",
       "    </tr>\n",
       "  </thead>\n",
       "  <tbody>\n",
       "    <tr>\n",
       "      <th>0</th>\n",
       "      <td>2013-01-01</td>\n",
       "      <td>ID-2013-37383</td>\n",
       "      <td>Kumasi</td>\n",
       "      <td>Technology</td>\n",
       "      <td>1649.214</td>\n",
       "      <td>7</td>\n",
       "      <td>36.624</td>\n",
       "    </tr>\n",
       "    <tr>\n",
       "      <th>1</th>\n",
       "      <td>2013-01-01</td>\n",
       "      <td>IN-2013-47960</td>\n",
       "      <td>Kumasi</td>\n",
       "      <td>Furniture</td>\n",
       "      <td>1358.280</td>\n",
       "      <td>7</td>\n",
       "      <td>203.700</td>\n",
       "    </tr>\n",
       "    <tr>\n",
       "      <th>2</th>\n",
       "      <td>2013-01-01</td>\n",
       "      <td>ID-2013-37383</td>\n",
       "      <td>Kumasi</td>\n",
       "      <td>Technology</td>\n",
       "      <td>728.568</td>\n",
       "      <td>8</td>\n",
       "      <td>-32.472</td>\n",
       "    </tr>\n",
       "    <tr>\n",
       "      <th>3</th>\n",
       "      <td>2013-01-01</td>\n",
       "      <td>IN-2013-47960</td>\n",
       "      <td>Kumasi</td>\n",
       "      <td>Furniture</td>\n",
       "      <td>2189.520</td>\n",
       "      <td>6</td>\n",
       "      <td>372.060</td>\n",
       "    </tr>\n",
       "    <tr>\n",
       "      <th>4</th>\n",
       "      <td>2013-01-01</td>\n",
       "      <td>IN-2013-47960</td>\n",
       "      <td>Kumasi</td>\n",
       "      <td>Furniture</td>\n",
       "      <td>1362.060</td>\n",
       "      <td>7</td>\n",
       "      <td>340.410</td>\n",
       "    </tr>\n",
       "  </tbody>\n",
       "</table>\n",
       "</div>"
      ],
      "text/plain": [
       "   Order Date       Order ID  Market    Category     Sales  Quantity   Profit\n",
       "0  2013-01-01  ID-2013-37383  Kumasi  Technology  1649.214         7   36.624\n",
       "1  2013-01-01  IN-2013-47960  Kumasi   Furniture  1358.280         7  203.700\n",
       "2  2013-01-01  ID-2013-37383  Kumasi  Technology   728.568         8  -32.472\n",
       "3  2013-01-01  IN-2013-47960  Kumasi   Furniture  2189.520         6  372.060\n",
       "4  2013-01-01  IN-2013-47960  Kumasi   Furniture  1362.060         7  340.410"
      ]
     },
     "execution_count": 287,
     "metadata": {},
     "output_type": "execute_result"
    }
   ],
   "source": [
    "#reading given csv file (dataset) \n",
    "data =pd.read_csv(\"Buymore_sales_data.csv\")\n",
    "data.head()"
   ]
  },
  {
   "cell_type": "code",
   "execution_count": 288,
   "metadata": {},
   "outputs": [],
   "source": [
    "# Load the sales data here\n",
    "sales_df = data[\"Sales\"]\n",
    "#sales_df.head()"
   ]
  },
  {
   "cell_type": "markdown",
   "metadata": {},
   "source": [
    "## QUESTION 1"
   ]
  },
  {
   "cell_type": "code",
   "execution_count": 289,
   "metadata": {},
   "outputs": [],
   "source": [
    "#grouping data by Market and finding the mean profit of each market group\n",
    "mean_sales=data.groupby(\"Market\")[\"Sales\"].agg([\"mean\"])\n",
    "mean_sales_top = mean_sales.head()\n",
    "\n",
    "#converting mean sales indices to a list for esy manipulation\n",
    "x_cord = list(mean_sales_top.index)\n",
    "y_sales = mean_sales[\"mean\"].tolist()\n",
    "#mean_sales.head()"
   ]
  },
  {
   "cell_type": "code",
   "execution_count": 290,
   "metadata": {},
   "outputs": [
    {
     "data": {
      "text/plain": [
       "0     36.624\n",
       "1    203.700\n",
       "2    -32.472\n",
       "3    372.060\n",
       "4    340.410\n",
       "Name: Profit, dtype: float64"
      ]
     },
     "execution_count": 290,
     "metadata": {},
     "output_type": "execute_result"
    }
   ],
   "source": [
    "#loading the profit column of the data\n",
    "profit_df = data[\"Profit\"]\n",
    "profit_df.head()"
   ]
  },
  {
   "cell_type": "code",
   "execution_count": 291,
   "metadata": {},
   "outputs": [],
   "source": [
    "#grouping data by Market and finding the mean profit of each market group\n",
    "mean_profit=data.groupby(\"Market\")[\"Profit\"].agg([\"mean\"])\n",
    "y_profits = mean_profit[\"mean\"].tolist()"
   ]
  },
  {
   "cell_type": "code",
   "execution_count": 292,
   "metadata": {},
   "outputs": [
    {
     "data": {
      "image/png": "[encoded data removed]",
      "text/plain": [
       "<Figure size 432x288 with 1 Axes>"
      ]
     },
     "metadata": {
      "needs_background": "light"
     },
     "output_type": "display_data"
    }
   ],
   "source": [
    "#ploting bar chart\n",
    "plt.bar(x_cord, y_profits, color=\"purple\")\n",
    "plt.bar(x_cord, y_sales, bottom=y_profits,color=\"violet\")\n",
    "\n",
    "#labelling bar chart\n",
    "plt.xlabel(\"Markets\")\n",
    "plt.ylabel(\"Average Profits\")\n",
    "plt.title(\"Average profits for every market\")\n",
    "plt.show()"
   ]
  },
  {
   "cell_type": "markdown",
   "metadata": {},
   "source": [
    "**III.** The market that brings the most sales on average is **KUMASI MARKET**"
   ]
  },
  {
   "cell_type": "markdown",
   "metadata": {},
   "source": [
    "## QUESTION 2"
   ]
  },
  {
   "cell_type": "code",
   "execution_count": 293,
   "metadata": {},
   "outputs": [],
   "source": [
    "#Extracting days and monhs from the dates in the dataset and adding them as colums to he dataset\n",
    "\n",
    "data[\"Days\"]= pd.to_datetime(data[\"Order Date\"]).dt.day_name()\n",
    "\n",
    "data[\"Months\"]= pd.to_datetime(data[\"Order Date\"]).dt.month_name()\n",
    "#data.head()"
   ]
  },
  {
   "cell_type": "code",
   "execution_count": 294,
   "metadata": {},
   "outputs": [
    {
     "data": {
      "text/plain": [
       "Text(0.5, 1.0, 'Average profits for every day of the week')"
      ]
     },
     "execution_count": 294,
     "metadata": {},
     "output_type": "execute_result"
    },
    {
     "data": {
      "image/png": "[encoded data removed]",
      "text/plain": [
       "<Figure size 432x288 with 1 Axes>"
      ]
     },
     "metadata": {
      "needs_background": "light"
     },
     "output_type": "display_data"
    }
   ],
   "source": [
    "#groupby function groups the rows based on th specified parameter (days and months in this case)\n",
    "daily_profit=data.groupby(\"Days\")[\"Profit\"].agg([\"mean\"])\n",
    "monthly_profit=data.groupby(\"Months\")[\"Profit\"].agg([\"sum\"])\n",
    "\n",
    "#draws line chart\n",
    "daily_profit.plot(color=\"purple\")\n",
    "\n",
    "#labelling line chart\n",
    "plt.xlabel(\"Days\")\n",
    "plt.ylabel(\"Average Profit\")\n",
    "plt.title(\"Average profits for every day of the week\")"
   ]
  },
  {
   "cell_type": "markdown",
   "metadata": {},
   "source": [
    "III. The company makes high average sales on **Sunday**"
   ]
  },
  {
   "cell_type": "markdown",
   "metadata": {},
   "source": [
    "## QUESTION 3\n",
    "\n",
    "**I.** Positive correlation\n",
    "\n",
    "**II.** This means that an increase in sales causes an increase in profit and vice versa"
   ]
  },
  {
   "cell_type": "code",
   "execution_count": 295,
   "metadata": {},
   "outputs": [
    {
     "data": {
      "image/png": "[encoded data removed]",
      "text/plain": [
       "<Figure size 432x288 with 1 Axes>"
      ]
     },
     "metadata": {
      "needs_background": "light"
     },
     "output_type": "display_data"
    }
   ],
   "source": [
    "#plotting a scatter diagram with sales as x and profit as y\n",
    "plt.scatter(data[\"Sales\"],data[\"Profit\"], color=\"purple\")\n",
    "\n",
    "#labelling scatter plot\n",
    "plt.xlabel(\"Sales\")\n",
    "plt.ylabel(\"Profit\")\n",
    "plt.title(\"Scatter plot of Sales and Profit\")\n",
    "plt.show()"
   ]
  },
  {
   "cell_type": "markdown",
   "metadata": {},
   "source": [
    "## QUESTION 4"
   ]
  },
  {
   "cell_type": "code",
   "execution_count": 300,
   "metadata": {},
   "outputs": [
    {
     "data": {
      "image/png": "[encoded data removed]",
      "text/plain": [
       "<Figure size 432x288 with 1 Axes>"
      ]
     },
     "metadata": {
      "needs_background": "light"
     },
     "output_type": "display_data"
    }
   ],
   "source": [
    "#list of values to be used as x coordinates\n",
    "markets = x_cord\n",
    "product_category = list(set(data[\"Category\"]))\n",
    "\n",
    "#lists to contain values that will be used to draw the bar chat\n",
    "MARKET =[]\n",
    "Technology=[]\n",
    "Furniture =[]\n",
    "Office_Supplies=[]\n",
    "\n",
    "#loop that adds the appropriate value(s) to the each list above\n",
    "for market in markets:\n",
    "    for category in product_category:\n",
    "        #details.append(market)\n",
    "        tot_sales=data.loc[(data[\"Market\"]==market)&(data[\"Category\"]==category),\"Sales\"].sum()\n",
    "        if category == \"Technology\":\n",
    "            Technology.append(tot_sales)\n",
    "        elif category == \"Furniture\":\n",
    "             Furniture.append(tot_sales)\n",
    "        else: \n",
    "            Office_Supplies.append(tot_sales)\n",
    "    MARKET.append(market)\n",
    "\n",
    "#list comprehension that converts each member of the MARKET list o upper case \n",
    "MARKETS = [i.upper() for i in MARKET]\n",
    "\n",
    "#w represents he width of each bar\n",
    "w=0.2\n",
    "\n",
    "#the positions of each bar in a group specified in bars 1,2 and 3\n",
    "bar1 = np.arange(len(MARKETS))\n",
    "bar2 = [i+w for i in bar1]\n",
    "bar3 = [i+w for i in bar2]\n",
    "\n",
    "#plot of the bars\n",
    "plt.bar(bar1,Technology,w,label=\"Technology\", color=\"violet\")\n",
    "plt.bar(bar2,Furniture,w,label=\"Furniture\", color=\"blue\")\n",
    "plt.bar(bar3,Office_Supplies,w,label=\"Office_Supplies\", color=\"purple\")\n",
    "\n",
    "#labelling the bar chart\n",
    "plt.xlabel(\"Markets\")\n",
    "plt.ylabel(\"Total sales\")\n",
    "plt.title(\"Total sales of each product category per market\")\n",
    "plt.xticks(bar2,MARKETS)\n",
    "plt.legend()\n",
    "plt.show()"
   ]
  },
  {
   "cell_type": "markdown",
   "metadata": {},
   "source": [
    "**II.** The product category that performs well in:"
   ]
  },
  {
   "cell_type": "markdown",
   "metadata": {},
   "source": [
    "1. Accra is **Furniture**.\n",
    "2. Bawku is **Technology**.\n",
    "3. Koforidua is **Technology**.\n",
    "4. Kumasi is **Furniture**.\n",
    "5. Takoradi is **Technology**."
   ]
  },
  {
   "cell_type": "code",
   "execution_count": null,
   "metadata": {},
   "outputs": [],
   "source": []
  }
 ],
 "metadata": {
  "kernelspec": {
   "display_name": "Python 3 (ipykernel)",
   "language": "python",
   "name": "python3"
  },
  "language_info": {
   "codemirror_mode": {
    "name": "ipython",
    "version": 3
   },
   "file_extension": ".py",
   "mimetype": "text/x-python",
   "name": "python",
   "nbconvert_exporter": "python",
   "pygments_lexer": "ipython3",
   "version": "3.9.12"
  }
 },
 "nbformat": 4,
 "nbformat_minor": 4
}
